{
  "nbformat": 4,
  "nbformat_minor": 0,
  "metadata": {
    "colab": {
      "provenance": []
    },
    "kernelspec": {
      "name": "python3",
      "display_name": "Python 3"
    },
    "language_info": {
      "name": "python"
    }
  },
  "cells": [
    {
      "cell_type": "markdown",
      "source": [
        "Write a Python program to convert kilometers to miles?"
      ],
      "metadata": {
        "id": "Qi2eTv7RhdTv"
      }
    },
    {
      "cell_type": "code",
      "source": [
        "dist=float(input('Enter the distance in kilometers :'))\n",
        "miles=dist*0.62\n",
        "print('Distance in miles will be :', miles)"
      ],
      "metadata": {
        "colab": {
          "base_uri": "https://localhost:8080/"
        },
        "id": "x2VNbkVIhoKQ",
        "outputId": "b7857932-3dec-4d13-a4f4-9248719c7e0a"
      },
      "execution_count": 2,
      "outputs": [
        {
          "output_type": "stream",
          "name": "stdout",
          "text": [
            "Enter the distance in kilometers :8\n",
            "Distance in miles will be : 4.96\n"
          ]
        }
      ]
    },
    {
      "cell_type": "markdown",
      "source": [
        "Write a Python program to convert Celsius to Fahrenheit?"
      ],
      "metadata": {
        "id": "1O884N8yiAvo"
      }
    },
    {
      "cell_type": "code",
      "source": [
        "temp=float(input('Enter the temperature in Celsius '))\n",
        "farh= (temp*1.8)+32\n",
        "print('Temperature in Fahrenheit ', farh)"
      ],
      "metadata": {
        "colab": {
          "base_uri": "https://localhost:8080/"
        },
        "id": "PaH7f-EZiC99",
        "outputId": "01766327-4b58-4310-c8c6-69feefaae105"
      },
      "execution_count": 3,
      "outputs": [
        {
          "output_type": "stream",
          "name": "stdout",
          "text": [
            "Enter the temperature in Celsius 0\n",
            "Temperature in Fahrenheit  32.0\n"
          ]
        }
      ]
    },
    {
      "cell_type": "markdown",
      "source": [
        "Write a Python program to display calendar?"
      ],
      "metadata": {
        "id": "ItHMyuqRifia"
      }
    },
    {
      "cell_type": "code",
      "source": [
        "import calendar\n",
        "yy=int(input('Enter the year'))\n",
        "mm=int(input('Enter the month'))\n",
        "print(calendar.month(yy,mm))"
      ],
      "metadata": {
        "colab": {
          "base_uri": "https://localhost:8080/"
        },
        "id": "x0sy3oSNihnp",
        "outputId": "81910ddd-ae17-4977-839f-c3e62ec84bc6"
      },
      "execution_count": 5,
      "outputs": [
        {
          "output_type": "stream",
          "name": "stdout",
          "text": [
            "Enter the year2024\n",
            "Enter the month11\n",
            "   November 2024\n",
            "Mo Tu We Th Fr Sa Su\n",
            "             1  2  3\n",
            " 4  5  6  7  8  9 10\n",
            "11 12 13 14 15 16 17\n",
            "18 19 20 21 22 23 24\n",
            "25 26 27 28 29 30\n",
            "\n"
          ]
        }
      ]
    },
    {
      "cell_type": "markdown",
      "source": [
        "Write a Python program to solve quadratic equation?\n",
        "\n",
        "\n",
        "```\n",
        "# This is formatted as code\n",
        "```\n",
        "\n"
      ],
      "metadata": {
        "id": "pvM1np9ti9ZB"
      }
    },
    {
      "cell_type": "code",
      "source": [
        "# Solve the quadratic equation ax**2 + bx + c = 0\n",
        "\n",
        "# import complex math module\n",
        "import cmath\n",
        "\n",
        "a = 1\n",
        "b = 5\n",
        "c = 6\n",
        "\n",
        "# calculate the discriminant\n",
        "d = (b**2) - (4*a*c)\n",
        "\n",
        "# find two solutions\n",
        "sol1 = (-b-cmath.sqrt(d))/(2*a)\n",
        "sol2 = (-b+cmath.sqrt(d))/(2*a)\n",
        "\n",
        "print('The solution are {0} and {1}'.format(sol1,sol2))\n"
      ],
      "metadata": {
        "colab": {
          "base_uri": "https://localhost:8080/"
        },
        "id": "xyOpQK6qjESG",
        "outputId": "98a8bef3-8073-4e56-9f9a-37777d926056"
      },
      "execution_count": 6,
      "outputs": [
        {
          "output_type": "stream",
          "name": "stdout",
          "text": [
            "The solution are (-3+0j) and (-2+0j)\n"
          ]
        }
      ]
    },
    {
      "cell_type": "markdown",
      "source": [
        "*5*. Write a Python program to swap two variables without temp variable?"
      ],
      "metadata": {
        "id": "ywAnJgSHjiqs"
      }
    },
    {
      "cell_type": "code",
      "source": [
        "a=int(input('Enter the first number '))\n",
        "b=int(input('Enter the second number '))\n",
        "print('Value of a before swapping ',a)\n",
        "print('Value of b before swapping ',b)\n",
        "a=a+b\n",
        "b=a-b\n",
        "a=a-b\n",
        "print('Value of a after swapping ',a)\n",
        "print('Value of b after swapping ',b)"
      ],
      "metadata": {
        "colab": {
          "base_uri": "https://localhost:8080/"
        },
        "id": "KZ5_bSIHjj0I",
        "outputId": "865d0c08-a5d4-4173-a48c-ad3f8d47a01d"
      },
      "execution_count": 7,
      "outputs": [
        {
          "output_type": "stream",
          "name": "stdout",
          "text": [
            "Enter the first number 1\n",
            "Enter the second number 2\n",
            "Value of a before swapping  1\n",
            "Value of b before swapping  2\n",
            "Value of a after swapping  2\n",
            "Value of b after swapping  1\n"
          ]
        }
      ]
    },
    {
      "cell_type": "code",
      "source": [],
      "metadata": {
        "id": "NrnVziZpj_37"
      },
      "execution_count": null,
      "outputs": []
    }
  ]
}