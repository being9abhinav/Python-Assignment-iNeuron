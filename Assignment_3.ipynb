{
  "nbformat": 4,
  "nbformat_minor": 0,
  "metadata": {
    "colab": {
      "provenance": []
    },
    "kernelspec": {
      "name": "python3",
      "display_name": "Python 3"
    },
    "language_info": {
      "name": "python"
    }
  },
  "cells": [
    {
      "cell_type": "markdown",
      "source": [
        "Write a Python Program to Check if a Number is Positive, Negative or Zero?"
      ],
      "metadata": {
        "id": "SxpN9aRH6lcA"
      }
    },
    {
      "cell_type": "code",
      "source": [
        "num=float(input('Enter the number'))\n",
        "if num==0:\n",
        "  print('Zero')\n",
        "elif num >0:\n",
        "  print('Number is positive')\n",
        "else:\n",
        "  print('Number is negative')"
      ],
      "metadata": {
        "colab": {
          "base_uri": "https://localhost:8080/"
        },
        "id": "6tOql__U6oO5",
        "outputId": "844e2d69-9802-412d-dfa1-a15db0672737"
      },
      "execution_count": 1,
      "outputs": [
        {
          "output_type": "stream",
          "name": "stdout",
          "text": [
            "Enter the number5\n",
            "Number is positive\n"
          ]
        }
      ]
    },
    {
      "cell_type": "markdown",
      "source": [
        "\n",
        " Write a Python Program to Check if a Number is Odd or Even?\n",
        "```\n",
        "# This is formatted as code\n",
        "```\n",
        "\n"
      ],
      "metadata": {
        "id": "ARwtTG2K7P-Q"
      }
    },
    {
      "cell_type": "code",
      "source": [
        "num=int(input('Enter the number'))\n",
        "if num%2==0:\n",
        "  print(num, 'is an Even number')\n",
        "else:\n",
        "  print(num, 'is an Odd number')"
      ],
      "metadata": {
        "colab": {
          "base_uri": "https://localhost:8080/"
        },
        "id": "sh-SC03R7SQn",
        "outputId": "cbe37fa5-5062-4a62-9d54-af78a150c44f"
      },
      "execution_count": 2,
      "outputs": [
        {
          "output_type": "stream",
          "name": "stdout",
          "text": [
            "Enter the number5\n",
            "5 is an Odd number\n"
          ]
        }
      ]
    },
    {
      "cell_type": "markdown",
      "source": [
        " Write a Python Program to Check Leap Year?"
      ],
      "metadata": {
        "id": "ZwEUF-E07nu5"
      }
    },
    {
      "cell_type": "code",
      "source": [
        "year=int(input('Enter the year'))\n",
        "if year%4==0:\n",
        "  print(year, 'is an Even year')\n",
        "else:\n",
        "  print(year, 'is an Odd year')"
      ],
      "metadata": {
        "colab": {
          "base_uri": "https://localhost:8080/"
        },
        "id": "C5coJMY77lzY",
        "outputId": "d9c4ca46-7ab3-4cb4-81bf-7cfb17ffd255"
      },
      "execution_count": 3,
      "outputs": [
        {
          "output_type": "stream",
          "name": "stdout",
          "text": [
            "Enter the year2024\n",
            "2024 is an Even year\n"
          ]
        }
      ]
    },
    {
      "cell_type": "markdown",
      "source": [
        "Write a Python Program to Check Prime Number?"
      ],
      "metadata": {
        "id": "iSGgJqoLv2xG"
      }
    },
    {
      "cell_type": "code",
      "source": [
        "num=int(input('Enter your number'))\n",
        "if num==2:\n",
        "  print (num, 'is a prime number')\n",
        "elif num > 1:\n",
        "  for i in range(2, num):\n",
        "    if num%i==0:\n",
        "      print(num, 'is not a prime number')\n",
        "      break\n",
        "    else:\n",
        "      print(num, 'is a prime number')\n",
        "      break\n",
        "else:\n",
        "  print(num, 'is not a prime number')\n"
      ],
      "metadata": {
        "colab": {
          "base_uri": "https://localhost:8080/"
        },
        "id": "CPhojTpjv5Ec",
        "outputId": "fa0ccfb0-bad5-4096-f78e-6e92f8ab9897"
      },
      "execution_count": 4,
      "outputs": [
        {
          "output_type": "stream",
          "name": "stdout",
          "text": [
            "Enter your number11\n",
            "11 is a prime number\n"
          ]
        }
      ]
    },
    {
      "cell_type": "markdown",
      "source": [
        "Write a Python Program to Print all Prime Numbers in an Interval of 1-10000?\n",
        "\n",
        "*   List item\n",
        "*   List item\n",
        "\n"
      ],
      "metadata": {
        "id": "AErzuGjjxtmp"
      }
    },
    {
      "cell_type": "code",
      "source": [
        "flag=0\n",
        "num=2\n",
        "while flag<=10000:\n",
        "  for i in range(2,num):\n",
        "    if num%i==0:\n",
        "      break\n",
        "    else:\n",
        "      print(num)\n",
        "      flag=flag+1\n",
        "    num=num+1"
      ],
      "metadata": {
        "id": "NcMuYdq-1iB4"
      },
      "execution_count": null,
      "outputs": []
    },
    {
      "cell_type": "code",
      "source": [],
      "metadata": {
        "id": "kEIZnPlh2JQK"
      },
      "execution_count": null,
      "outputs": []
    }
  ]
}