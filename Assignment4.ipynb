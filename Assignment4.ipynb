{
  "nbformat": 4,
  "nbformat_minor": 0,
  "metadata": {
    "colab": {
      "provenance": []
    },
    "kernelspec": {
      "name": "python3",
      "display_name": "Python 3"
    },
    "language_info": {
      "name": "python"
    }
  },
  "cells": [
    {
      "cell_type": "markdown",
      "source": [
        " 1. Write a Python Program to Find the Factorial of a Number?"
      ],
      "metadata": {
        "id": "b6EHmetFBZCf"
      }
    },
    {
      "cell_type": "code",
      "source": [
        "def factorial(n):\n",
        "  if n==1:\n",
        "    return n\n",
        "  else:\n",
        "    fact=n*factorial(n-1)\n",
        "    return fact\n",
        "factorial(5)"
      ],
      "metadata": {
        "colab": {
          "base_uri": "https://localhost:8080/"
        },
        "id": "RkG0smyHBai3",
        "outputId": "858cfb50-0c6b-4fb5-878d-1e030887ad78"
      },
      "execution_count": 1,
      "outputs": [
        {
          "output_type": "execute_result",
          "data": {
            "text/plain": [
              "120"
            ]
          },
          "metadata": {},
          "execution_count": 1
        }
      ]
    },
    {
      "cell_type": "markdown",
      "source": [
        "Write a Python Program to Display the multiplication Table?"
      ],
      "metadata": {
        "id": "ogMejkU5BvRx"
      }
    },
    {
      "cell_type": "code",
      "source": [
        "num=int(input('Enter the number '))\n",
        "for i in range(1,11):\n",
        "  print(num,'*',i,'=',num*i)"
      ],
      "metadata": {
        "colab": {
          "base_uri": "https://localhost:8080/"
        },
        "id": "ef91BPYrBxy-",
        "outputId": "b96457dc-eb37-4e8b-a052-d73aa968e311"
      },
      "execution_count": 3,
      "outputs": [
        {
          "output_type": "stream",
          "name": "stdout",
          "text": [
            "Enter the number 12\n",
            "12 * 1 = 12\n",
            "12 * 2 = 24\n",
            "12 * 3 = 36\n",
            "12 * 4 = 48\n",
            "12 * 5 = 60\n",
            "12 * 6 = 72\n",
            "12 * 7 = 84\n",
            "12 * 8 = 96\n",
            "12 * 9 = 108\n",
            "12 * 10 = 120\n"
          ]
        }
      ]
    },
    {
      "cell_type": "markdown",
      "source": [
        "Write a Python Program to Print the Fibonacci sequence?"
      ],
      "metadata": {
        "id": "v6qQrMM1C0lg"
      }
    },
    {
      "cell_type": "code",
      "source": [
        "count=0\n",
        "a=0\n",
        "b=1\n",
        "print(a)\n",
        "print(b)\n",
        "while True:\n",
        "  c=a+b\n",
        "  a=b\n",
        "  b=c\n",
        "  print(c)\n",
        "  count=count+1\n",
        "  if count==18:\n",
        "    break"
      ],
      "metadata": {
        "colab": {
          "base_uri": "https://localhost:8080/"
        },
        "id": "PpQ9zY-nC2Lm",
        "outputId": "f83be616-2663-461b-9f75-1e341593d109"
      },
      "execution_count": 8,
      "outputs": [
        {
          "output_type": "stream",
          "name": "stdout",
          "text": [
            "0\n",
            "1\n",
            "1\n",
            "2\n",
            "3\n",
            "5\n",
            "8\n",
            "13\n",
            "21\n",
            "34\n",
            "55\n",
            "89\n",
            "144\n",
            "233\n",
            "377\n",
            "610\n",
            "987\n",
            "1597\n",
            "2584\n",
            "4181\n"
          ]
        }
      ]
    },
    {
      "cell_type": "markdown",
      "source": [
        "Write a Python Program to Check Armstrong Number?"
      ],
      "metadata": {
        "id": "26guATU0D17d"
      }
    },
    {
      "cell_type": "code",
      "source": [
        "user_input=int(input('Enter the number'))\n",
        "digits=len(str(user_input))\n",
        "num=user_input\n",
        "add_sum=0\n",
        "while num!=0:\n",
        "  k=num%10\n",
        "  add_sum+=k**digits\n",
        "  num=num//10\n",
        "if add_sum==user_input:\n",
        "  print(user_input,'Number is an Armstrong number')\n",
        "else:\n",
        "  print(user_input,'Number is not an Armstrong number')"
      ],
      "metadata": {
        "colab": {
          "base_uri": "https://localhost:8080/"
        },
        "id": "28K0NzmWEraw",
        "outputId": "6d4a9069-9f68-4f6c-b9de-a63fdb1f321f"
      },
      "execution_count": 24,
      "outputs": [
        {
          "output_type": "stream",
          "name": "stdout",
          "text": [
            "Enter the number150\n",
            "150 Number is not an Armstrong number\n"
          ]
        }
      ]
    },
    {
      "cell_type": "markdown",
      "source": [
        "Write a Python Program to Find Armstrong Number in an Interval?"
      ],
      "metadata": {
        "id": "szwZzupLHfE-"
      }
    },
    {
      "cell_type": "code",
      "source": [
        "for num in range(100,1000):\n",
        "  i=num\n",
        "  a=num%10\n",
        "  num=num//10\n",
        "  b=num%10\n",
        "  c=num//10\n",
        "  add=(a**3)+(b**3)+(c**3)\n",
        "  if add==i:\n",
        "    print(i)"
      ],
      "metadata": {
        "colab": {
          "base_uri": "https://localhost:8080/"
        },
        "id": "rKliCuw_HhFJ",
        "outputId": "51f0dadc-9071-4e72-f115-d9384c17eb6d"
      },
      "execution_count": 28,
      "outputs": [
        {
          "output_type": "stream",
          "name": "stdout",
          "text": [
            "153\n",
            "370\n",
            "371\n",
            "407\n"
          ]
        }
      ]
    },
    {
      "cell_type": "markdown",
      "source": [
        "Write a Python Program to Find the Sum of Natural Numbers?"
      ],
      "metadata": {
        "id": "9AAj0o4TJlVg"
      }
    },
    {
      "cell_type": "code",
      "source": [
        "num=int(input('Enter the number'))\n",
        "sum=num*(num+1)/2\n",
        "print(sum)"
      ],
      "metadata": {
        "colab": {
          "base_uri": "https://localhost:8080/"
        },
        "id": "H9nCB5mrKHHt",
        "outputId": "d8a8ca67-c5c9-48e9-b03f-49ac9fed0041"
      },
      "execution_count": 31,
      "outputs": [
        {
          "output_type": "stream",
          "name": "stdout",
          "text": [
            "Enter the number16\n",
            "136.0\n"
          ]
        }
      ]
    },
    {
      "cell_type": "code",
      "source": [],
      "metadata": {
        "id": "dg8rrTGxKSlM"
      },
      "execution_count": null,
      "outputs": []
    }
  ]
}