{
  "nbformat": 4,
  "nbformat_minor": 0,
  "metadata": {
    "colab": {
      "provenance": []
    },
    "kernelspec": {
      "name": "python3",
      "display_name": "Python 3"
    },
    "language_info": {
      "name": "python"
    }
  },
  "cells": [
    {
      "cell_type": "markdown",
      "source": [
        "1. Write a Python program to print \"Hello Python\"?"
      ],
      "metadata": {
        "id": "8KASicHIc9Rn"
      }
    },
    {
      "cell_type": "code",
      "source": [
        "print('Hello Python')"
      ],
      "metadata": {
        "colab": {
          "base_uri": "https://localhost:8080/"
        },
        "id": "Xj9_ibmcc_L4",
        "outputId": "04e4cc6b-4298-4303-8419-a9395924efae"
      },
      "execution_count": 2,
      "outputs": [
        {
          "output_type": "stream",
          "name": "stdout",
          "text": [
            "Hello Python\n"
          ]
        }
      ]
    },
    {
      "cell_type": "markdown",
      "source": [
        "2. Write a Python program to do arithmetical operations addition and division.?"
      ],
      "metadata": {
        "id": "t3zooNoQddmd"
      }
    },
    {
      "cell_type": "code",
      "source": [
        "a=float(input('Enter the 1st number '))\n",
        "b=float(input('Enter the 2nd number '))\n",
        "sum=a+b\n",
        "div=a/b\n",
        "print('Addition result is :', sum)\n",
        "print('Division result is:', div)"
      ],
      "metadata": {
        "colab": {
          "base_uri": "https://localhost:8080/"
        },
        "id": "Gn5SFBIWdhG5",
        "outputId": "6a47838d-54bf-4e2d-c2c4-b46623eea95e"
      },
      "execution_count": 4,
      "outputs": [
        {
          "output_type": "stream",
          "name": "stdout",
          "text": [
            "Enter the 1st number 4\n",
            "Enter the 2nd number 5\n",
            "Addition result is : 9.0\n",
            "Division result is: 0.8\n"
          ]
        }
      ]
    },
    {
      "cell_type": "markdown",
      "source": [
        "Write a Python program to find the area of a triangle?\n",
        "\n",
        "```\n",
        "# This is formatted as code\n",
        "```\n",
        "\n"
      ],
      "metadata": {
        "id": "JzEKElp0eLnk"
      }
    },
    {
      "cell_type": "code",
      "source": [
        "a=float(input('Enter the 1st side of the triangle '))\n",
        "b=float(input('Enter the 2nd side of the triangle '))\n",
        "c=float(input('Enter the 3rd side of the triangle'))\n",
        "s=(a+b+c)/2\n",
        "area=(s*(s-a)*(s-b)*(s-c))**0.5\n",
        "print('Area of the triangle :', area)"
      ],
      "metadata": {
        "colab": {
          "base_uri": "https://localhost:8080/"
        },
        "id": "bHCdpsoweOss",
        "outputId": "cd68700e-3ce5-486c-da90-715ccd1d4be0"
      },
      "execution_count": 7,
      "outputs": [
        {
          "output_type": "stream",
          "name": "stdout",
          "text": [
            "Enter the 1st side of the triangle 5\n",
            "Enter the 2nd side of the triangle 6\n",
            "Enter the 3rd side of the triangle7\n",
            "Area of the triangle : 14.696938456699069\n"
          ]
        }
      ]
    },
    {
      "cell_type": "markdown",
      "source": [
        "4. Write a Python program to swap two variables?"
      ],
      "metadata": {
        "id": "f2qR5tpFfmMU"
      }
    },
    {
      "cell_type": "code",
      "source": [
        "a=int(input('Enter 1st number'))\n",
        "b=int(input('Enter 2nd number'))\n",
        "print('Value of a before swapping:', a)\n",
        "print('Value of b before swapping:', b)\n",
        "c=a\n",
        "a=b\n",
        "b=c\n",
        "print('Value of a after swapping:', a)\n",
        "print('Value of b after swapping:', b)\n"
      ],
      "metadata": {
        "colab": {
          "base_uri": "https://localhost:8080/"
        },
        "id": "99jgF_1Sfoev",
        "outputId": "d03b36d1-9886-49ad-a78e-56ab9e96b007"
      },
      "execution_count": 8,
      "outputs": [
        {
          "output_type": "stream",
          "name": "stdout",
          "text": [
            "Enter 1st number1\n",
            "Enter 2nd number2\n",
            "Value of a before swapping: 1\n",
            "Value of b before swapping: 2\n",
            "Value of a after swapping: 2\n",
            "Value of b after swapping: 1\n"
          ]
        }
      ]
    },
    {
      "cell_type": "markdown",
      "source": [
        "5. Write a Python program to generate a random number?"
      ],
      "metadata": {
        "id": "p1iqAfRLgTuU"
      }
    },
    {
      "cell_type": "code",
      "source": [
        "import random\n",
        "print(random.randint(0,9))"
      ],
      "metadata": {
        "colab": {
          "base_uri": "https://localhost:8080/"
        },
        "id": "36kTvuOxgVpX",
        "outputId": "82e00544-4c06-4ef5-b046-51317df8dfdb"
      },
      "execution_count": 10,
      "outputs": [
        {
          "output_type": "stream",
          "name": "stdout",
          "text": [
            "1\n"
          ]
        }
      ]
    },
    {
      "cell_type": "code",
      "source": [],
      "metadata": {
        "id": "huS44rUGgckm"
      },
      "execution_count": null,
      "outputs": []
    }
  ]
}