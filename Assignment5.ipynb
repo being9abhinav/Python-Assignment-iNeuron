{
  "nbformat": 4,
  "nbformat_minor": 0,
  "metadata": {
    "colab": {
      "provenance": []
    },
    "kernelspec": {
      "name": "python3",
      "display_name": "Python 3"
    },
    "language_info": {
      "name": "python"
    }
  },
  "cells": [
    {
      "cell_type": "markdown",
      "source": [
        "Write a Python Program to Find LCM?"
      ],
      "metadata": {
        "id": "D-3gak35K17d"
      }
    },
    {
      "cell_type": "code",
      "source": [
        "a=int(input('Enter 1st number'))\n",
        "num1=a\n",
        "b=int(input('Enter 2nd number'))\n",
        "num2=b\n",
        "while num1%num2!=0:\n",
        "  rem=num1%num2\n",
        "  num1=num2\n",
        "  num2=rem\n",
        "hcf=num2\n",
        "lcm=(a*b)/hcf\n",
        "print(lcm)"
      ],
      "metadata": {
        "colab": {
          "base_uri": "https://localhost:8080/"
        },
        "id": "zxLYgmiDK3Xe",
        "outputId": "0ee5da36-480e-43f9-ac1f-41dd9014916c"
      },
      "execution_count": 2,
      "outputs": [
        {
          "output_type": "stream",
          "name": "stdout",
          "text": [
            "Enter 1st number5\n",
            "Enter 2nd number4\n",
            "20.0\n"
          ]
        }
      ]
    },
    {
      "cell_type": "markdown",
      "source": [
        "Write a Python Program to Find HCF?"
      ],
      "metadata": {
        "id": "zK_qJcGIbJLR"
      }
    },
    {
      "cell_type": "code",
      "source": [
        "a=int(input('Enter 1st number '))\n",
        "b=int(input('Enter 2nd number '))\n",
        "while a%b!=0:\n",
        "  rem=a%b\n",
        "  a=b\n",
        "  b=rem\n",
        "print(rem)"
      ],
      "metadata": {
        "colab": {
          "base_uri": "https://localhost:8080/"
        },
        "id": "43poY_CgbJn4",
        "outputId": "94bccf00-54ef-4c3e-a3a8-46160352b69e"
      },
      "execution_count": 4,
      "outputs": [
        {
          "output_type": "stream",
          "name": "stdout",
          "text": [
            "Enter 1st number 24\n",
            "Enter 2nd number 36\n",
            "12\n"
          ]
        }
      ]
    },
    {
      "cell_type": "markdown",
      "source": [
        " Write a Python Program to Convert Decimal to Binary, Octal and Hexadecimal?"
      ],
      "metadata": {
        "id": "zb7hGO01byqD"
      }
    },
    {
      "cell_type": "code",
      "source": [
        "dec = 344\n",
        "\n",
        "print(\"The decimal value of\", dec, \"is:\")\n",
        "print(bin(dec), \"in binary.\")\n",
        "print(oct(dec), \"in octal.\")\n",
        "print(hex(dec), \"in hexadecimal.\")"
      ],
      "metadata": {
        "colab": {
          "base_uri": "https://localhost:8080/"
        },
        "id": "VfAGYHqzb0ue",
        "outputId": "5f64f618-7a1c-4236-a242-1f9ed608c71e"
      },
      "execution_count": 6,
      "outputs": [
        {
          "output_type": "stream",
          "name": "stdout",
          "text": [
            "The decimal value of 344 is:\n",
            "0b101011000 in binary.\n",
            "0o530 in octal.\n",
            "0x158 in hexadecimal.\n"
          ]
        }
      ]
    },
    {
      "cell_type": "markdown",
      "source": [
        "4. Write a Python Program To Find ASCII value of a character?"
      ],
      "metadata": {
        "id": "Y0xeNCGQcl-_"
      }
    },
    {
      "cell_type": "code",
      "source": [
        "c = 'p'\n",
        "print(\"The ASCII value of '\" + c + \"' is\", ord(c))"
      ],
      "metadata": {
        "colab": {
          "base_uri": "https://localhost:8080/"
        },
        "id": "puaScnLqcPq1",
        "outputId": "25b569d0-a601-49dd-dbae-377b7553b753"
      },
      "execution_count": 7,
      "outputs": [
        {
          "output_type": "stream",
          "name": "stdout",
          "text": [
            "The ASCII value of 'p' is 112\n"
          ]
        }
      ]
    },
    {
      "cell_type": "markdown",
      "source": [
        "5. Write a Python Program to Make a Simple Calculator with 4 basic mathematical operations?"
      ],
      "metadata": {
        "id": "YkKKSqT9c7zt"
      }
    },
    {
      "cell_type": "code",
      "source": [
        "\n",
        "# Function to perform the arithmetic operation: Addition\n",
        "def add(number_1, number_2):\n",
        "    return number_1 + number_2\n",
        "\n",
        "# Function to perform the arithmetic operation: Subtraction\n",
        "def subtract(number_1, number_2):\n",
        "    return number_1 - number_2\n",
        "\n",
        "# Function to perform the arithmetic operation: Multiplication\n",
        "def multiply(number_1, number_2):\n",
        "    return number_1 * number_2\n",
        "\n",
        "# Function to perform the arithmetic operation: Division\n",
        "def divide(number_1, number_2):\n",
        "    return number_1 / number_2\n",
        "\n",
        "print(\"Hi, I am a Calculator!\")\n",
        "print(\"Please select which of the following arithematic operation you want me to perform-\\n\" \\\n",
        "        \"1. Add\\n\" \\\n",
        "        \"2. Subtract\\n\" \\\n",
        "        \"3. Multiply\\n\" \\\n",
        "        \"4. Divide\\n\")\n",
        "\n",
        "# Taking the input from the user for which arithmetic operation to perform\n",
        "operation = int(input(\" 1, 2, 3 or 4 :\"))\n",
        "\n",
        "number_1 = int(input('Please, Enter the first number: '))\n",
        "number_2 = int(input('Please, Enter the second number: '))\n",
        "\n",
        "if operation == 1:\n",
        "    print(number_1, \"+\", number_2, \"=\",\n",
        "                    add(number_1, number_2))\n",
        "\n",
        "elif operation == 2:\n",
        "    print(number_1, \"-\", number_2, \"=\",\n",
        "                    subtract(number_1, number_2))\n",
        "\n",
        "elif operation == 3:\n",
        "    print(number_1, \"*\", number_2, \"=\",\n",
        "                    multiply(number_1, number_2))\n",
        "\n",
        "elif operation == 4:\n",
        "    print(number_1, \"/\", number_2, \"=\",\n",
        "                    divide(number_1, number_2))\n",
        "else:\n",
        "    print(\"Please enter Valid input\")\n",
        "\n"
      ],
      "metadata": {
        "id": "9L_GiSOXcuKy"
      },
      "execution_count": null,
      "outputs": []
    }
  ]
}